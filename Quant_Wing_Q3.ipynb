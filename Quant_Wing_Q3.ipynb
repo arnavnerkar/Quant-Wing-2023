{
  "nbformat": 4,
  "nbformat_minor": 0,
  "metadata": {
    "colab": {
      "provenance": [],
      "include_colab_link": true
    },
    "kernelspec": {
      "name": "python3",
      "display_name": "Python 3"
    },
    "language_info": {
      "name": "python"
    }
  },
  "cells": [
    {
      "cell_type": "markdown",
      "metadata": {
        "id": "view-in-github",
        "colab_type": "text"
      },
      "source": [
        "<a href=\"https://colab.research.google.com/github/arnavnerkar/Quant-Wing-2023/blob/main/Quant_Wing_Q3.ipynb\" target=\"_parent\"><img src=\"https://colab.research.google.com/assets/colab-badge.svg\" alt=\"Open In Colab\"/></a>"
      ]
    },
    {
      "cell_type": "code",
      "source": [
        "import pandas as pd"
      ],
      "metadata": {
        "id": "hfSwaFb_P68F"
      },
      "execution_count": null,
      "outputs": []
    },
    {
      "cell_type": "markdown",
      "source": [
        "HISTORICAL APPROACH\n"
      ],
      "metadata": {
        "id": "UJ_mZ_1wOZuk"
      }
    },
    {
      "cell_type": "code",
      "source": [
        "def var_historic(r, level=1):\n",
        "  \"\"\"\n",
        "  Takes in a series of returns (r), and the percentage level\n",
        "  (level)\n",
        "  Returns the historic Value at Risk at a specified level\n",
        "  i.e. returns the number such that \"level\" percent of the returns\n",
        "  fall below that number, and the (100-level) percent are above\n",
        "  \"\"\"\n",
        "  if isinstance(r, pd.DataFrame):\n",
        "    return r.aggregate(var_historic, level=level)\n",
        "  elif isinstance(r, pd.Series):\n",
        "    return -np.percentile(r, level)\n",
        "  else:\n",
        "    raise TypeError(\"Expected r to be a Series or DataFrame\")\n"
      ],
      "metadata": {
        "id": "kIPXnjSrOjEb"
      },
      "execution_count": null,
      "outputs": []
    },
    {
      "cell_type": "markdown",
      "source": [
        "variance and co variance approach"
      ],
      "metadata": {
        "id": "0zuXkNhTO_BG"
      }
    },
    {
      "cell_type": "code",
      "source": [
        "from scipy.stats import norm\n",
        "def var_gaussian(r, level=5, modified=False):\n",
        "  \"\"\"\n",
        "  Returns the Parametric Gauuian VaR of a Series or DataFrame\n",
        "  If \"modified\" is True, then the modified VaR is returned,\n",
        "  using the Cornish-Fisher modification\n",
        "  \"\"\"\n",
        "  # compute the Z score assuming it was Gaussian\n",
        "  z = norm.ppf(level/100)\n",
        "  if modified:\n",
        "  # modify the Z score based on observed skewness and kurtosis\n",
        "    s = skewness(r)\n",
        "    k = kurtosis(r)\n",
        "    z = (z + (z**2 - 1)*s/6 + (z**3 -3*z)*(k-3)/24 - (2*z**3 - 5*z)*(s**2)/36)\n",
        "  return -(r.mean() + z*r.std(ddof=0))\n"
      ],
      "metadata": {
        "id": "vkM5JnwZPCSp"
      },
      "execution_count": null,
      "outputs": []
    },
    {
      "cell_type": "code",
      "source": [],
      "metadata": {
        "id": "xT6_YWGAP5V4"
      },
      "execution_count": null,
      "outputs": []
    }
  ]
}